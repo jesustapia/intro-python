{
  "nbformat": 4,
  "nbformat_minor": 0,
  "metadata": {
    "colab": {
      "name": "01 basic python.ipynb",
      "provenance": [],
      "authorship_tag": "ABX9TyPXNvZ4IFtQfcJS1HpDF/km",
      "include_colab_link": true
    },
    "kernelspec": {
      "name": "python3",
      "display_name": "Python 3"
    }
  },
  "cells": [
    {
      "cell_type": "markdown",
      "metadata": {
        "id": "view-in-github",
        "colab_type": "text"
      },
      "source": [
        "<a href=\"https://colab.research.google.com/github/pcsilcan/intro-python/blob/master/01_basic_python.ipynb\" target=\"_parent\"><img src=\"https://colab.research.google.com/assets/colab-badge.svg\" alt=\"Open In Colab\"/></a>"
      ]
    },
    {
      "cell_type": "markdown",
      "metadata": {
        "id": "HlUEGsELt1WA",
        "colab_type": "text"
      },
      "source": [
        "_Bienvenido a la versión de jupyter notebooks de Google_\n"
      ]
    },
    {
      "cell_type": "markdown",
      "metadata": {
        "id": "7BlrVLSguAhn",
        "colab_type": "text"
      },
      "source": [
        "# Basic python"
      ]
    },
    {
      "cell_type": "code",
      "metadata": {
        "id": "I2_peHuFtwbn",
        "colab_type": "code",
        "colab": {}
      },
      "source": [
        ""
      ],
      "execution_count": null,
      "outputs": []
    }
  ]
}