{
  "nbformat": 4,
  "nbformat_minor": 0,
  "metadata": {
    "colab": {
      "name": "01 basic python.ipynb",
      "provenance": [],
      "authorship_tag": "ABX9TyM/fK0Yavgtn8T66aVXVSLv",
      "include_colab_link": true
    },
    "kernelspec": {
      "name": "python3",
      "display_name": "Python 3"
    }
  },
  "cells": [
    {
      "cell_type": "markdown",
      "metadata": {
        "id": "view-in-github",
        "colab_type": "text"
      },
      "source": [
        "<a href=\"https://colab.research.google.com/github/pcsilcan/intro-python/blob/master/01_basic_python.ipynb\" target=\"_parent\"><img src=\"https://colab.research.google.com/assets/colab-badge.svg\" alt=\"Open In Colab\"/></a>"
      ]
    },
    {
      "cell_type": "markdown",
      "metadata": {
        "id": "HlUEGsELt1WA",
        "colab_type": "text"
      },
      "source": [
        "_Bienvenido a la versión de jupyter notebooks de Google_\n"
      ]
    },
    {
      "cell_type": "markdown",
      "metadata": {
        "id": "7BlrVLSguAhn",
        "colab_type": "text"
      },
      "source": [
        "# Basic python"
      ]
    },
    {
      "cell_type": "markdown",
      "metadata": {
        "id": "rHsbAI0T8X9h",
        "colab_type": "text"
      },
      "source": [
        "## Variables"
      ]
    },
    {
      "cell_type": "code",
      "metadata": {
        "id": "I2_peHuFtwbn",
        "colab_type": "code",
        "colab": {}
      },
      "source": [
        "a = 10"
      ],
      "execution_count": 1,
      "outputs": []
    },
    {
      "cell_type": "code",
      "metadata": {
        "id": "4gIUIf2j81GF",
        "colab_type": "code",
        "colab": {
          "base_uri": "https://localhost:8080/",
          "height": 34
        },
        "outputId": "496a168c-9718-4e9b-a188-f3b215101761"
      },
      "source": [
        "a"
      ],
      "execution_count": 2,
      "outputs": [
        {
          "output_type": "execute_result",
          "data": {
            "text/plain": [
              "10"
            ]
          },
          "metadata": {
            "tags": []
          },
          "execution_count": 2
        }
      ]
    },
    {
      "cell_type": "code",
      "metadata": {
        "id": "vSV9Yo9E83CJ",
        "colab_type": "code",
        "colab": {
          "base_uri": "https://localhost:8080/",
          "height": 34
        },
        "outputId": "0a2d13fb-f939-4422-e45e-0c20512a2241"
      },
      "source": [
        "b = a * 10\n",
        "print(b)"
      ],
      "execution_count": 3,
      "outputs": [
        {
          "output_type": "stream",
          "text": [
            "100\n"
          ],
          "name": "stdout"
        }
      ]
    },
    {
      "cell_type": "code",
      "metadata": {
        "id": "hklfV42E86v_",
        "colab_type": "code",
        "colab": {
          "base_uri": "https://localhost:8080/",
          "height": 163
        },
        "outputId": "84148ba4-8070-44a0-b802-042dbd759429"
      },
      "source": [
        "c = d"
      ],
      "execution_count": 4,
      "outputs": [
        {
          "output_type": "error",
          "ename": "NameError",
          "evalue": "ignored",
          "traceback": [
            "\u001b[0;31m---------------------------------------------------------------------------\u001b[0m",
            "\u001b[0;31mNameError\u001b[0m                                 Traceback (most recent call last)",
            "\u001b[0;32m<ipython-input-4-4b1c3c32b242>\u001b[0m in \u001b[0;36m<module>\u001b[0;34m()\u001b[0m\n\u001b[0;32m----> 1\u001b[0;31m \u001b[0mc\u001b[0m \u001b[0;34m=\u001b[0m \u001b[0md\u001b[0m\u001b[0;34m\u001b[0m\u001b[0;34m\u001b[0m\u001b[0m\n\u001b[0m",
            "\u001b[0;31mNameError\u001b[0m: name 'd' is not defined"
          ]
        }
      ]
    },
    {
      "cell_type": "code",
      "metadata": {
        "id": "H8uyB-oX9A6c",
        "colab_type": "code",
        "colab": {
          "base_uri": "https://localhost:8080/",
          "height": 34
        },
        "outputId": "664a3ab6-7a89-4d1f-e997-09adb98e082f"
      },
      "source": [
        "a = \"Hola, Mundo\"\n",
        "print(a)"
      ],
      "execution_count": 9,
      "outputs": [
        {
          "output_type": "stream",
          "text": [
            "Hola, Mundo\n"
          ],
          "name": "stdout"
        }
      ]
    },
    {
      "cell_type": "code",
      "metadata": {
        "id": "5QaMVZji9Hsw",
        "colab_type": "code",
        "colab": {}
      },
      "source": [
        "d = \"1981\"\n",
        "c = int(d)"
      ],
      "execution_count": 6,
      "outputs": []
    },
    {
      "cell_type": "code",
      "metadata": {
        "id": "aAMqJ4Zm9NXD",
        "colab_type": "code",
        "colab": {
          "base_uri": "https://localhost:8080/",
          "height": 34
        },
        "outputId": "4bc2e73d-265f-4e42-f478-fc14ff8fd7af"
      },
      "source": [
        "c"
      ],
      "execution_count": 7,
      "outputs": [
        {
          "output_type": "execute_result",
          "data": {
            "text/plain": [
              "1981"
            ]
          },
          "metadata": {
            "tags": []
          },
          "execution_count": 7
        }
      ]
    },
    {
      "cell_type": "code",
      "metadata": {
        "id": "YR-PZ4Wf9OMe",
        "colab_type": "code",
        "colab": {
          "base_uri": "https://localhost:8080/",
          "height": 35
        },
        "outputId": "f428c012-a6b1-4313-9ca3-e97b12d4f39d"
      },
      "source": [
        "d"
      ],
      "execution_count": 10,
      "outputs": [
        {
          "output_type": "execute_result",
          "data": {
            "application/vnd.google.colaboratory.intrinsic+json": {
              "type": "string"
            },
            "text/plain": [
              "'1981'"
            ]
          },
          "metadata": {
            "tags": []
          },
          "execution_count": 10
        }
      ]
    },
    {
      "cell_type": "code",
      "metadata": {
        "id": "GW2l4WKo9O39",
        "colab_type": "code",
        "colab": {
          "base_uri": "https://localhost:8080/",
          "height": 34
        },
        "outputId": "2ae7d864-48ea-4dad-cf42-231d46781084"
      },
      "source": [
        "print(a, b, c, d)"
      ],
      "execution_count": 11,
      "outputs": [
        {
          "output_type": "stream",
          "text": [
            "Hola, Mundo 100 1981 1981\n"
          ],
          "name": "stdout"
        }
      ]
    },
    {
      "cell_type": "code",
      "metadata": {
        "id": "CumqsGL39ZuO",
        "colab_type": "code",
        "colab": {}
      },
      "source": [
        ""
      ],
      "execution_count": null,
      "outputs": []
    },
    {
      "cell_type": "markdown",
      "metadata": {
        "id": "R1p1EFUf9cf4",
        "colab_type": "text"
      },
      "source": [
        "**Ctrl + enter** Automáticamente ejecuta una celda\n",
        "\n",
        "**SHift Enter** Ejecuta una celda y pasa a la siguiente. Si no existe, la crea\n",
        "\n",
        "_Ésto es Markdown!_"
      ]
    },
    {
      "cell_type": "markdown",
      "metadata": {
        "id": "3PadouOn9zJH",
        "colab_type": "text"
      },
      "source": [
        "## Estructuras condicionales"
      ]
    },
    {
      "cell_type": "code",
      "metadata": {
        "id": "qB2Qona49ofD",
        "colab_type": "code",
        "colab": {
          "base_uri": "https://localhost:8080/",
          "height": 34
        },
        "outputId": "35bf093e-566e-4075-8bd8-9d25883082d2"
      },
      "source": [
        "if b > c:\n",
        "    print(\"B es mayor\")\n",
        "    print(\":)\")\n",
        "else:\n",
        "    print(\"C es mayor o igual\")"
      ],
      "execution_count": 19,
      "outputs": [
        {
          "output_type": "stream",
          "text": [
            "C es mayor o igual\n"
          ],
          "name": "stdout"
        }
      ]
    },
    {
      "cell_type": "code",
      "metadata": {
        "id": "i0p83Tk399WK",
        "colab_type": "code",
        "colab": {}
      },
      "source": [
        "import random"
      ],
      "execution_count": 18,
      "outputs": []
    },
    {
      "cell_type": "code",
      "metadata": {
        "id": "1q-cRFso-6HU",
        "colab_type": "code",
        "colab": {
          "base_uri": "https://localhost:8080/",
          "height": 34
        },
        "outputId": "6e42562c-097b-4ec6-e58b-24c6d26bbf4b"
      },
      "source": [
        "a = random.randint(100, 1000)\n",
        "if a < 150:\n",
        "    print(\"Caso 1\")\n",
        "elif a < 350:\n",
        "    print(\"Caso 2\")\n",
        "elif a < 650:\n",
        "    print(\"Caso 3\")\n",
        "else:\n",
        "    print(\"Ningun caso\")"
      ],
      "execution_count": 26,
      "outputs": [
        {
          "output_type": "stream",
          "text": [
            "Ningun caso\n"
          ],
          "name": "stdout"
        }
      ]
    },
    {
      "cell_type": "markdown",
      "metadata": {
        "id": "cKJIqiUI_THr",
        "colab_type": "text"
      },
      "source": [
        "## Estructuras repetitivas"
      ]
    },
    {
      "cell_type": "code",
      "metadata": {
        "id": "NJToOGgD_H1C",
        "colab_type": "code",
        "colab": {
          "base_uri": "https://localhost:8080/",
          "height": 185
        },
        "outputId": "39b9cbc9-d494-4641-9f08-2fe92aeb9a94"
      },
      "source": [
        "for i in range(10):\n",
        "    print(i)"
      ],
      "execution_count": 27,
      "outputs": [
        {
          "output_type": "stream",
          "text": [
            "0\n",
            "1\n",
            "2\n",
            "3\n",
            "4\n",
            "5\n",
            "6\n",
            "7\n",
            "8\n",
            "9\n"
          ],
          "name": "stdout"
        }
      ]
    },
    {
      "cell_type": "code",
      "metadata": {
        "id": "qu1pljsR_Zwj",
        "colab_type": "code",
        "colab": {
          "base_uri": "https://localhost:8080/",
          "height": 101
        },
        "outputId": "95a2ade8-0125-4a23-a32a-d6ecd466fb41"
      },
      "source": [
        "for i in range(5, 10):\n",
        "    print(i)"
      ],
      "execution_count": 28,
      "outputs": [
        {
          "output_type": "stream",
          "text": [
            "5\n",
            "6\n",
            "7\n",
            "8\n",
            "9\n"
          ],
          "name": "stdout"
        }
      ]
    },
    {
      "cell_type": "code",
      "metadata": {
        "id": "MzgUUrFR_mj5",
        "colab_type": "code",
        "colab": {
          "base_uri": "https://localhost:8080/",
          "height": 101
        },
        "outputId": "57c033b7-3212-40be-a299-c237853662dc"
      },
      "source": [
        "for i in range(5, 1000, 200):\n",
        "    print(i)"
      ],
      "execution_count": 30,
      "outputs": [
        {
          "output_type": "stream",
          "text": [
            "5\n",
            "205\n",
            "405\n",
            "605\n",
            "805\n"
          ],
          "name": "stdout"
        }
      ]
    },
    {
      "cell_type": "code",
      "metadata": {
        "id": "-dd1j_JK_peo",
        "colab_type": "code",
        "colab": {
          "base_uri": "https://localhost:8080/",
          "height": 185
        },
        "outputId": "85b10d8f-acff-4525-cadd-42be94f31e4c"
      },
      "source": [
        "for i in range(10, 0, -1):\n",
        "    print(i)"
      ],
      "execution_count": 31,
      "outputs": [
        {
          "output_type": "stream",
          "text": [
            "10\n",
            "9\n",
            "8\n",
            "7\n",
            "6\n",
            "5\n",
            "4\n",
            "3\n",
            "2\n",
            "1\n"
          ],
          "name": "stdout"
        }
      ]
    },
    {
      "cell_type": "code",
      "metadata": {
        "id": "_c2gPHEY_wQM",
        "colab_type": "code",
        "colab": {
          "base_uri": "https://localhost:8080/",
          "height": 118
        },
        "outputId": "343d66f7-40ef-4c94-af12-332374125461"
      },
      "source": [
        "while True:\n",
        "    r = random.randint(0, 10)\n",
        "    if r % 2 == 0:\n",
        "        print(\"Soy Par\", r)\n",
        "    elif r % 5:\n",
        "        break\n",
        "\n",
        "print(\"finalizado\")"
      ],
      "execution_count": 34,
      "outputs": [
        {
          "output_type": "stream",
          "text": [
            "Soy Par 8\n",
            "Soy Par 6\n",
            "Soy Par 4\n",
            "Soy Par 0\n",
            "Soy Par 6\n",
            "finalizado\n"
          ],
          "name": "stdout"
        }
      ]
    },
    {
      "cell_type": "code",
      "metadata": {
        "id": "LXHlIy56AbnK",
        "colab_type": "code",
        "colab": {
          "base_uri": "https://localhost:8080/",
          "height": 168
        },
        "outputId": "7a00e4ae-d0e6-4197-f70a-222f67b8cd91"
      },
      "source": [
        "while True:\n",
        "    r = random.randint(0, 10)\n",
        "    print(r)\n",
        "    if r % 2 == 0:\n",
        "        continue\n",
        "\n",
        "    print(\"No fue par\")\n",
        "    if r % 5 == 0:\n",
        "        break\n",
        "\n",
        "print(\"finalizado\")"
      ],
      "execution_count": 37,
      "outputs": [
        {
          "output_type": "stream",
          "text": [
            "6\n",
            "4\n",
            "1\n",
            "No fue par\n",
            "7\n",
            "No fue par\n",
            "5\n",
            "No fue par\n",
            "finalizado\n"
          ],
          "name": "stdout"
        }
      ]
    },
    {
      "cell_type": "markdown",
      "metadata": {
        "id": "_0dJow1TBVyh",
        "colab_type": "text"
      },
      "source": [
        "## Funciones"
      ]
    },
    {
      "cell_type": "code",
      "metadata": {
        "id": "oA3_FnxFArxI",
        "colab_type": "code",
        "colab": {
          "base_uri": "https://localhost:8080/",
          "height": 34
        },
        "outputId": "90f92c5b-58b1-4ff5-dd94-fc41208067c1"
      },
      "source": [
        "def func1():\n",
        "    print(\"Hola\")\n",
        "\n",
        "func1()"
      ],
      "execution_count": 42,
      "outputs": [
        {
          "output_type": "stream",
          "text": [
            "Hola\n"
          ],
          "name": "stdout"
        }
      ]
    },
    {
      "cell_type": "code",
      "metadata": {
        "id": "NmRZnhgHBcyA",
        "colab_type": "code",
        "colab": {
          "base_uri": "https://localhost:8080/",
          "height": 34
        },
        "outputId": "b0712ad6-35c7-41af-9b76-bc07debe5b24"
      },
      "source": [
        "def func2(nombre):\n",
        "    print(\"hola\", nombre)\n",
        "\n",
        "func2(\"Luis\")"
      ],
      "execution_count": 41,
      "outputs": [
        {
          "output_type": "stream",
          "text": [
            "hola Luis\n"
          ],
          "name": "stdout"
        }
      ]
    },
    {
      "cell_type": "code",
      "metadata": {
        "id": "3FDdLh36BhpJ",
        "colab_type": "code",
        "colab": {
          "base_uri": "https://localhost:8080/",
          "height": 50
        },
        "outputId": "ac8d5f15-e487-45e1-8923-866d7da5b1a4"
      },
      "source": [
        "def func3(a, b):\n",
        "    return a + b\n",
        "\n",
        "print(func3(6, 8))\n",
        "print(func3(\"Hola\", \"Mundo\"))"
      ],
      "execution_count": 45,
      "outputs": [
        {
          "output_type": "stream",
          "text": [
            "14\n",
            "HolaMundo\n"
          ],
          "name": "stdout"
        }
      ]
    },
    {
      "cell_type": "markdown",
      "metadata": {
        "id": "QArceHRlC-SV",
        "colab_type": "text"
      },
      "source": [
        "### Closure o captura de contexto"
      ]
    },
    {
      "cell_type": "code",
      "metadata": {
        "id": "MnTKETGKBqvG",
        "colab_type": "code",
        "colab": {}
      },
      "source": [
        "def func4():\n",
        "    func4.x = 10\n",
        "    def func41():\n",
        "        func4.x += 1\n",
        "        return func4.x\n",
        "    return func41"
      ],
      "execution_count": 52,
      "outputs": []
    },
    {
      "cell_type": "code",
      "metadata": {
        "id": "V3nKhr6mCDHV",
        "colab_type": "code",
        "colab": {
          "base_uri": "https://localhost:8080/",
          "height": 84
        },
        "outputId": "b8a2035b-0078-447d-b79f-b37d4819d43a"
      },
      "source": [
        "f = func4()\n",
        "print(f())\n",
        "print(f())\n",
        "print(f())\n",
        "print(f())"
      ],
      "execution_count": 53,
      "outputs": [
        {
          "output_type": "stream",
          "text": [
            "11\n",
            "12\n",
            "13\n",
            "14\n"
          ],
          "name": "stdout"
        }
      ]
    },
    {
      "cell_type": "code",
      "metadata": {
        "id": "yrAPme8YCGzQ",
        "colab_type": "code",
        "colab": {}
      },
      "source": [
        "def func5(lado):\n",
        "    return lado*lado, lado*4"
      ],
      "execution_count": 54,
      "outputs": []
    },
    {
      "cell_type": "code",
      "metadata": {
        "id": "CjEGYZQpDSZ2",
        "colab_type": "code",
        "colab": {
          "base_uri": "https://localhost:8080/",
          "height": 34
        },
        "outputId": "15fc2697-c44c-457c-a7fb-f6b27b63c6e5"
      },
      "source": [
        "area, perim = func5(10)\n",
        "print(area, perim)"
      ],
      "execution_count": 56,
      "outputs": [
        {
          "output_type": "stream",
          "text": [
            "100 40\n"
          ],
          "name": "stdout"
        }
      ]
    },
    {
      "cell_type": "markdown",
      "metadata": {
        "id": "9G07MzXdDeKu",
        "colab_type": "text"
      },
      "source": [
        "## Estructuras de datos\n",
        "\n",
        "### Listas (que en realidad son vectores)"
      ]
    },
    {
      "cell_type": "code",
      "metadata": {
        "id": "k_vr9PJQDVfW",
        "colab_type": "code",
        "colab": {
          "base_uri": "https://localhost:8080/",
          "height": 34
        },
        "outputId": "ed93d5f9-c261-418b-a660-110cbb11deda"
      },
      "source": [
        "a = [1, 2, 3, 4, 5]\n",
        "a"
      ],
      "execution_count": 57,
      "outputs": [
        {
          "output_type": "execute_result",
          "data": {
            "text/plain": [
              "[1, 2, 3, 4, 5]"
            ]
          },
          "metadata": {
            "tags": []
          },
          "execution_count": 57
        }
      ]
    },
    {
      "cell_type": "code",
      "metadata": {
        "id": "-3PuDADMDnKQ",
        "colab_type": "code",
        "colab": {
          "base_uri": "https://localhost:8080/",
          "height": 34
        },
        "outputId": "823eadc8-ac52-4034-c84b-ddb8a4f399fd"
      },
      "source": [
        "b = [0]*10\n",
        "b"
      ],
      "execution_count": 58,
      "outputs": [
        {
          "output_type": "execute_result",
          "data": {
            "text/plain": [
              "[0, 0, 0, 0, 0, 0, 0, 0, 0, 0]"
            ]
          },
          "metadata": {
            "tags": []
          },
          "execution_count": 58
        }
      ]
    },
    {
      "cell_type": "markdown",
      "metadata": {
        "id": "sMcIFbuAD01e",
        "colab_type": "text"
      },
      "source": [
        "### Comprehensions"
      ]
    },
    {
      "cell_type": "code",
      "metadata": {
        "id": "xoKYg9lxDtwv",
        "colab_type": "code",
        "colab": {
          "base_uri": "https://localhost:8080/",
          "height": 34
        },
        "outputId": "5645ac27-c38b-4af3-bf12-68c001ea5aec"
      },
      "source": [
        "c = [i for i in range(10)]\n",
        "c"
      ],
      "execution_count": 59,
      "outputs": [
        {
          "output_type": "execute_result",
          "data": {
            "text/plain": [
              "[0, 1, 2, 3, 4, 5, 6, 7, 8, 9]"
            ]
          },
          "metadata": {
            "tags": []
          },
          "execution_count": 59
        }
      ]
    },
    {
      "cell_type": "code",
      "metadata": {
        "id": "MwRwkx_XD5pu",
        "colab_type": "code",
        "colab": {
          "base_uri": "https://localhost:8080/",
          "height": 185
        },
        "outputId": "36590ce4-0f0a-4ba1-fc24-55e23dd1b71d"
      },
      "source": [
        "for elemento in c:\n",
        "    print(elemento)"
      ],
      "execution_count": 60,
      "outputs": [
        {
          "output_type": "stream",
          "text": [
            "0\n",
            "1\n",
            "2\n",
            "3\n",
            "4\n",
            "5\n",
            "6\n",
            "7\n",
            "8\n",
            "9\n"
          ],
          "name": "stdout"
        }
      ]
    },
    {
      "cell_type": "code",
      "metadata": {
        "id": "3BB84KjQEHNQ",
        "colab_type": "code",
        "colab": {
          "base_uri": "https://localhost:8080/",
          "height": 34
        },
        "outputId": "9b7243a0-3a5b-488c-a419-25ee1d09931a"
      },
      "source": [
        "d = [random.randint(10, 20) for _ in range(10)]\n",
        "d"
      ],
      "execution_count": 61,
      "outputs": [
        {
          "output_type": "execute_result",
          "data": {
            "text/plain": [
              "[15, 10, 10, 20, 19, 12, 11, 14, 13, 20]"
            ]
          },
          "metadata": {
            "tags": []
          },
          "execution_count": 61
        }
      ]
    },
    {
      "cell_type": "code",
      "metadata": {
        "id": "Xst3nAtOEVUp",
        "colab_type": "code",
        "colab": {
          "base_uri": "https://localhost:8080/",
          "height": 185
        },
        "outputId": "e45e3ad4-9498-4156-ae9a-c881b9968f2d"
      },
      "source": [
        "for elem in d:\n",
        "    print(elem)"
      ],
      "execution_count": 62,
      "outputs": [
        {
          "output_type": "stream",
          "text": [
            "15\n",
            "10\n",
            "10\n",
            "20\n",
            "19\n",
            "12\n",
            "11\n",
            "14\n",
            "13\n",
            "20\n"
          ],
          "name": "stdout"
        }
      ]
    },
    {
      "cell_type": "code",
      "metadata": {
        "id": "G2oZo0RTEaLZ",
        "colab_type": "code",
        "colab": {
          "base_uri": "https://localhost:8080/",
          "height": 185
        },
        "outputId": "fee5b4fa-a8dc-42bd-83ad-708a157dc2e4"
      },
      "source": [
        "for i, elem in enumerate(d):\n",
        "    print(i, elem)"
      ],
      "execution_count": 63,
      "outputs": [
        {
          "output_type": "stream",
          "text": [
            "0 15\n",
            "1 10\n",
            "2 10\n",
            "3 20\n",
            "4 19\n",
            "5 12\n",
            "6 11\n",
            "7 14\n",
            "8 13\n",
            "9 20\n"
          ],
          "name": "stdout"
        }
      ]
    },
    {
      "cell_type": "code",
      "metadata": {
        "id": "Jd1KXRNHEhg2",
        "colab_type": "code",
        "colab": {
          "base_uri": "https://localhost:8080/",
          "height": 185
        },
        "outputId": "7ec5930b-c6cf-4c7d-8dbc-a0cbceea0bdd"
      },
      "source": [
        "e = \"Hola Mundo\"\n",
        "for char in e:\n",
        "    print(char)"
      ],
      "execution_count": 64,
      "outputs": [
        {
          "output_type": "stream",
          "text": [
            "H\n",
            "o\n",
            "l\n",
            "a\n",
            " \n",
            "M\n",
            "u\n",
            "n\n",
            "d\n",
            "o\n"
          ],
          "name": "stdout"
        }
      ]
    },
    {
      "cell_type": "code",
      "metadata": {
        "id": "tTA3OxgjEqPQ",
        "colab_type": "code",
        "colab": {
          "base_uri": "https://localhost:8080/",
          "height": 34
        },
        "outputId": "092ae168-be58-490f-de9b-7b52276140d7"
      },
      "source": [
        "matriz = [[1, 2], [3, 4], [5, 6]]\n",
        "matriz"
      ],
      "execution_count": 66,
      "outputs": [
        {
          "output_type": "execute_result",
          "data": {
            "text/plain": [
              "[[1, 2], [3, 4], [5, 6]]"
            ]
          },
          "metadata": {
            "tags": []
          },
          "execution_count": 66
        }
      ]
    },
    {
      "cell_type": "code",
      "metadata": {
        "id": "UuQoE-ZfEv_y",
        "colab_type": "code",
        "colab": {
          "base_uri": "https://localhost:8080/",
          "height": 67
        },
        "outputId": "33b0534f-bf20-473d-95b3-184d5df5535b"
      },
      "source": [
        "for row in matriz:\n",
        "    print(row)"
      ],
      "execution_count": 67,
      "outputs": [
        {
          "output_type": "stream",
          "text": [
            "[1, 2]\n",
            "[3, 4]\n",
            "[5, 6]\n"
          ],
          "name": "stdout"
        }
      ]
    },
    {
      "cell_type": "code",
      "metadata": {
        "id": "v3LyMxeOE3M4",
        "colab_type": "code",
        "colab": {
          "base_uri": "https://localhost:8080/",
          "height": 67
        },
        "outputId": "3400e4ce-d2cb-429c-a5ba-cd86b7350e00"
      },
      "source": [
        "for x, y in matriz:\n",
        "    print(x, y)"
      ],
      "execution_count": 70,
      "outputs": [
        {
          "output_type": "stream",
          "text": [
            "1 2\n",
            "3 4\n",
            "5 6\n"
          ],
          "name": "stdout"
        }
      ]
    },
    {
      "cell_type": "markdown",
      "metadata": {
        "id": "9ErjkQl1FFBM",
        "colab_type": "text"
      },
      "source": [
        "## Diccionarios"
      ]
    },
    {
      "cell_type": "code",
      "metadata": {
        "id": "C5N37gC2E8BK",
        "colab_type": "code",
        "colab": {
          "base_uri": "https://localhost:8080/",
          "height": 34
        },
        "outputId": "0057e64b-7044-4134-dd26-89e65a5004b2"
      },
      "source": [
        "a = {}\n",
        "a['carlos'] = [15, 16, 17]\n",
        "a['rosa'] = [13, 16, 18]\n",
        "a['rene'] = [14, 16, 16]\n",
        "a"
      ],
      "execution_count": 72,
      "outputs": [
        {
          "output_type": "execute_result",
          "data": {
            "text/plain": [
              "{'carlos': [15, 16, 17], 'rene': [14, 16, 16], 'rosa': [13, 16, 18]}"
            ]
          },
          "metadata": {
            "tags": []
          },
          "execution_count": 72
        }
      ]
    },
    {
      "cell_type": "code",
      "metadata": {
        "id": "wXvhkYxTFTxe",
        "colab_type": "code",
        "colab": {}
      },
      "source": [
        ""
      ],
      "execution_count": null,
      "outputs": []
    }
  ]
}